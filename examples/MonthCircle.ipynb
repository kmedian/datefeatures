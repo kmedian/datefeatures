{
 "cells": [
  {
   "cell_type": "code",
   "execution_count": 1,
   "metadata": {},
   "outputs": [],
   "source": [
    "%load_ext autoreload\n",
    "%autoreload 2"
   ]
  },
  {
   "cell_type": "markdown",
   "metadata": {},
   "source": [
    "# Load modules"
   ]
  },
  {
   "cell_type": "code",
   "execution_count": 2,
   "metadata": {},
   "outputs": [],
   "source": [
    "import sys\n",
    "sys.path.append('..')\n",
    "\n",
    "from datefeatures import MonthCircle\n",
    "\n",
    "import numpy as np\n",
    "import pandas as pd\n",
    "from randdate import randdate\n",
    "from datetime import datetime\n",
    "\n",
    "from sklearn.pipeline import Pipeline, FeatureUnion\n",
    "from mlxtend.feature_selection import ColumnSelector"
   ]
  },
  {
   "cell_type": "markdown",
   "metadata": {},
   "source": [
    "# Example 1"
   ]
  },
  {
   "cell_type": "code",
   "execution_count": 3,
   "metadata": {},
   "outputs": [
    {
     "data": {
      "text/html": [
       "<div>\n",
       "<style scoped>\n",
       "    .dataframe tbody tr th:only-of-type {\n",
       "        vertical-align: middle;\n",
       "    }\n",
       "\n",
       "    .dataframe tbody tr th {\n",
       "        vertical-align: top;\n",
       "    }\n",
       "\n",
       "    .dataframe thead th {\n",
       "        text-align: right;\n",
       "    }\n",
       "</style>\n",
       "<table border=\"1\" class=\"dataframe\">\n",
       "  <thead>\n",
       "    <tr style=\"text-align: right;\">\n",
       "      <th></th>\n",
       "      <th>0_na</th>\n",
       "      <th>0_month_sin</th>\n",
       "      <th>0_month_cos</th>\n",
       "      <th>1_na</th>\n",
       "      <th>1_month_sin</th>\n",
       "      <th>1_month_cos</th>\n",
       "    </tr>\n",
       "  </thead>\n",
       "  <tbody>\n",
       "    <tr>\n",
       "      <th>0</th>\n",
       "      <td>False</td>\n",
       "      <td>0.968271</td>\n",
       "      <td>-0.249903</td>\n",
       "      <td>False</td>\n",
       "      <td>0.666717</td>\n",
       "      <td>-0.745311</td>\n",
       "    </tr>\n",
       "    <tr>\n",
       "      <th>1</th>\n",
       "      <td>False</td>\n",
       "      <td>-0.146113</td>\n",
       "      <td>0.989268</td>\n",
       "      <td>False</td>\n",
       "      <td>0.735904</td>\n",
       "      <td>-0.677086</td>\n",
       "    </tr>\n",
       "    <tr>\n",
       "      <th>2</th>\n",
       "      <td>False</td>\n",
       "      <td>-0.757918</td>\n",
       "      <td>-0.652349</td>\n",
       "      <td>False</td>\n",
       "      <td>-0.279163</td>\n",
       "      <td>-0.960244</td>\n",
       "    </tr>\n",
       "    <tr>\n",
       "      <th>3</th>\n",
       "      <td>False</td>\n",
       "      <td>-0.264796</td>\n",
       "      <td>-0.964305</td>\n",
       "      <td>False</td>\n",
       "      <td>-0.310488</td>\n",
       "      <td>0.950577</td>\n",
       "    </tr>\n",
       "    <tr>\n",
       "      <th>4</th>\n",
       "      <td>False</td>\n",
       "      <td>-0.479523</td>\n",
       "      <td>0.877529</td>\n",
       "      <td>False</td>\n",
       "      <td>-0.984764</td>\n",
       "      <td>0.173894</td>\n",
       "    </tr>\n",
       "  </tbody>\n",
       "</table>\n",
       "</div>"
      ],
      "text/plain": [
       "    0_na  0_month_sin  0_month_cos   1_na  1_month_sin  1_month_cos\n",
       "0  False     0.968271    -0.249903  False     0.666717    -0.745311\n",
       "1  False    -0.146113     0.989268  False     0.735904    -0.677086\n",
       "2  False    -0.757918    -0.652349  False    -0.279163    -0.960244\n",
       "3  False    -0.264796    -0.964305  False    -0.310488     0.950577\n",
       "4  False    -0.479523     0.877529  False    -0.984764     0.173894"
      ]
     },
     "execution_count": 3,
     "metadata": {},
     "output_type": "execute_result"
    }
   ],
   "source": [
    "# generate fake dates\n",
    "X = np.c_[np.array(randdate(10)), np.array(randdate(10))]\n",
    "\n",
    "# transform date variable to fetures\n",
    "cmp = MonthCircle()\n",
    "cmp.fit(X)\n",
    "Z = cmp.transform(X)\n",
    "\n",
    "Z.head()"
   ]
  },
  {
   "cell_type": "code",
   "execution_count": 4,
   "metadata": {},
   "outputs": [
    {
     "data": {
      "text/plain": [
       "['0_month_na',\n",
       " '0_month_sin',\n",
       " '0_month_cos',\n",
       " '1_month_na',\n",
       " '1_month_sin',\n",
       " '1_month_cos']"
      ]
     },
     "execution_count": 4,
     "metadata": {},
     "output_type": "execute_result"
    }
   ],
   "source": [
    "cmp.feature_names_"
   ]
  },
  {
   "cell_type": "markdown",
   "metadata": {},
   "source": [
    "# Example 2"
   ]
  },
  {
   "cell_type": "code",
   "execution_count": 5,
   "metadata": {},
   "outputs": [
    {
     "data": {
      "text/html": [
       "<div>\n",
       "<style scoped>\n",
       "    .dataframe tbody tr th:only-of-type {\n",
       "        vertical-align: middle;\n",
       "    }\n",
       "\n",
       "    .dataframe tbody tr th {\n",
       "        vertical-align: top;\n",
       "    }\n",
       "\n",
       "    .dataframe thead th {\n",
       "        text-align: right;\n",
       "    }\n",
       "</style>\n",
       "<table border=\"1\" class=\"dataframe\">\n",
       "  <thead>\n",
       "    <tr style=\"text-align: right;\">\n",
       "      <th></th>\n",
       "      <th>0_na</th>\n",
       "      <th>0_month_sin</th>\n",
       "      <th>0_month_cos</th>\n",
       "      <th>1_na</th>\n",
       "      <th>1_month_sin</th>\n",
       "      <th>1_month_cos</th>\n",
       "    </tr>\n",
       "  </thead>\n",
       "  <tbody>\n",
       "    <tr>\n",
       "      <th>0</th>\n",
       "      <td>False</td>\n",
       "      <td>-0.654729</td>\n",
       "      <td>0.755864</td>\n",
       "      <td>False</td>\n",
       "      <td>-0.333658</td>\n",
       "      <td>0.942694</td>\n",
       "    </tr>\n",
       "    <tr>\n",
       "      <th>1</th>\n",
       "      <td>True</td>\n",
       "      <td>NaN</td>\n",
       "      <td>NaN</td>\n",
       "      <td>False</td>\n",
       "      <td>0.936100</td>\n",
       "      <td>-0.351735</td>\n",
       "    </tr>\n",
       "    <tr>\n",
       "      <th>2</th>\n",
       "      <td>False</td>\n",
       "      <td>0.999865</td>\n",
       "      <td>0.016429</td>\n",
       "      <td>False</td>\n",
       "      <td>-0.987212</td>\n",
       "      <td>0.159411</td>\n",
       "    </tr>\n",
       "    <tr>\n",
       "      <th>3</th>\n",
       "      <td>False</td>\n",
       "      <td>-0.619826</td>\n",
       "      <td>-0.784739</td>\n",
       "      <td>False</td>\n",
       "      <td>-0.882327</td>\n",
       "      <td>-0.470637</td>\n",
       "    </tr>\n",
       "    <tr>\n",
       "      <th>4</th>\n",
       "      <td>False</td>\n",
       "      <td>0.772964</td>\n",
       "      <td>0.634449</td>\n",
       "      <td>False</td>\n",
       "      <td>0.087073</td>\n",
       "      <td>0.996202</td>\n",
       "    </tr>\n",
       "  </tbody>\n",
       "</table>\n",
       "</div>"
      ],
      "text/plain": [
       "    0_na  0_month_sin  0_month_cos   1_na  1_month_sin  1_month_cos\n",
       "0  False    -0.654729     0.755864  False    -0.333658     0.942694\n",
       "1   True          NaN          NaN  False     0.936100    -0.351735\n",
       "2  False     0.999865     0.016429  False    -0.987212     0.159411\n",
       "3  False    -0.619826    -0.784739  False    -0.882327    -0.470637\n",
       "4  False     0.772964     0.634449  False     0.087073     0.996202"
      ]
     },
     "execution_count": 5,
     "metadata": {},
     "output_type": "execute_result"
    }
   ],
   "source": [
    "# generate fake dates\n",
    "X = np.c_[np.array(randdate(10)), np.array(randdate(10))]\n",
    "\n",
    "# emulate missing value\n",
    "X[1,0] = np.nan\n",
    "\n",
    "# transform date variable to fetures\n",
    "cmp = MonthCircle()\n",
    "cmp.fit(X)\n",
    "Z = cmp.transform(X)\n",
    "\n",
    "Z.head()"
   ]
  },
  {
   "cell_type": "markdown",
   "metadata": {},
   "source": [
    "# Example 3"
   ]
  },
  {
   "cell_type": "code",
   "execution_count": 6,
   "metadata": {},
   "outputs": [],
   "source": [
    "n_samples = 100000\n",
    "X = np.c_[np.array(randdate(n_samples)), np.array(randdate(n_samples)), np.array(randdate(n_samples))]"
   ]
  },
  {
   "cell_type": "code",
   "execution_count": 7,
   "metadata": {},
   "outputs": [
    {
     "name": "stdout",
     "output_type": "stream",
     "text": [
      "CPU times: user 4.29 s, sys: 122 ms, total: 4.41 s\n",
      "Wall time: 4.68 s\n"
     ]
    }
   ],
   "source": [
    "cmp = MonthCircle()\n",
    "%time Z = cmp.fit_transform(X)"
   ]
  },
  {
   "cell_type": "markdown",
   "metadata": {},
   "source": [
    "# Example 4"
   ]
  },
  {
   "cell_type": "code",
   "execution_count": 8,
   "metadata": {},
   "outputs": [
    {
     "data": {
      "text/html": [
       "<div>\n",
       "<style scoped>\n",
       "    .dataframe tbody tr th:only-of-type {\n",
       "        vertical-align: middle;\n",
       "    }\n",
       "\n",
       "    .dataframe tbody tr th {\n",
       "        vertical-align: top;\n",
       "    }\n",
       "\n",
       "    .dataframe thead th {\n",
       "        text-align: right;\n",
       "    }\n",
       "</style>\n",
       "<table border=\"1\" class=\"dataframe\">\n",
       "  <thead>\n",
       "    <tr style=\"text-align: right;\">\n",
       "      <th></th>\n",
       "      <th>0_na</th>\n",
       "      <th>0_month_sin</th>\n",
       "      <th>0_month_cos</th>\n",
       "      <th>0_month_frac</th>\n",
       "    </tr>\n",
       "  </thead>\n",
       "  <tbody>\n",
       "    <tr>\n",
       "      <th>0</th>\n",
       "      <td>False</td>\n",
       "      <td>0.997687</td>\n",
       "      <td>-0.067979</td>\n",
       "      <td>0.260828</td>\n",
       "    </tr>\n",
       "    <tr>\n",
       "      <th>1</th>\n",
       "      <td>True</td>\n",
       "      <td>NaN</td>\n",
       "      <td>NaN</td>\n",
       "      <td>NaN</td>\n",
       "    </tr>\n",
       "    <tr>\n",
       "      <th>2</th>\n",
       "      <td>False</td>\n",
       "      <td>0.987755</td>\n",
       "      <td>0.156013</td>\n",
       "      <td>0.225068</td>\n",
       "    </tr>\n",
       "    <tr>\n",
       "      <th>3</th>\n",
       "      <td>False</td>\n",
       "      <td>-0.203928</td>\n",
       "      <td>0.978986</td>\n",
       "      <td>0.967315</td>\n",
       "    </tr>\n",
       "    <tr>\n",
       "      <th>4</th>\n",
       "      <td>False</td>\n",
       "      <td>0.991991</td>\n",
       "      <td>-0.126305</td>\n",
       "      <td>0.270156</td>\n",
       "    </tr>\n",
       "  </tbody>\n",
       "</table>\n",
       "</div>"
      ],
      "text/plain": [
       "    0_na  0_month_sin  0_month_cos  0_month_frac\n",
       "0  False     0.997687    -0.067979      0.260828\n",
       "1   True          NaN          NaN           NaN\n",
       "2  False     0.987755     0.156013      0.225068\n",
       "3  False    -0.203928     0.978986      0.967315\n",
       "4  False     0.991991    -0.126305      0.270156"
      ]
     },
     "execution_count": 8,
     "metadata": {},
     "output_type": "execute_result"
    }
   ],
   "source": [
    "# generate fake dates\n",
    "n_samples = 5\n",
    "X = np.c_[np.array(randdate(n_samples))]\n",
    "X[1,0] = np.nan\n",
    "\n",
    "# make pipeline\n",
    "pipe = Pipeline(steps=[\n",
    "    ('pre', MonthCircle(out=['sin', 'cos', 'frac']))\n",
    "])\n",
    "\n",
    "Z = pipe.fit_transform(X)\n",
    "Z"
   ]
  },
  {
   "cell_type": "markdown",
   "metadata": {},
   "source": [
    "# Example 5"
   ]
  },
  {
   "cell_type": "code",
   "execution_count": 9,
   "metadata": {},
   "outputs": [
    {
     "data": {
      "text/html": [
       "<div>\n",
       "<style scoped>\n",
       "    .dataframe tbody tr th:only-of-type {\n",
       "        vertical-align: middle;\n",
       "    }\n",
       "\n",
       "    .dataframe tbody tr th {\n",
       "        vertical-align: top;\n",
       "    }\n",
       "\n",
       "    .dataframe thead th {\n",
       "        text-align: right;\n",
       "    }\n",
       "</style>\n",
       "<table border=\"1\" class=\"dataframe\">\n",
       "  <thead>\n",
       "    <tr style=\"text-align: right;\">\n",
       "      <th></th>\n",
       "      <th>this_date</th>\n",
       "      <th>some_numbers</th>\n",
       "    </tr>\n",
       "  </thead>\n",
       "  <tbody>\n",
       "    <tr>\n",
       "      <th>0</th>\n",
       "      <td>1986-05-05 04:44:35.877908</td>\n",
       "      <td>0.839019</td>\n",
       "    </tr>\n",
       "    <tr>\n",
       "      <th>1</th>\n",
       "      <td>1974-01-03 09:38:12.990136</td>\n",
       "      <td>0.023113</td>\n",
       "    </tr>\n",
       "    <tr>\n",
       "      <th>2</th>\n",
       "      <td>1974-06-18 06:07:03.338543</td>\n",
       "      <td>-1.022649</td>\n",
       "    </tr>\n",
       "    <tr>\n",
       "      <th>3</th>\n",
       "      <td>1993-04-07 01:46:57.748680</td>\n",
       "      <td>0.223739</td>\n",
       "    </tr>\n",
       "    <tr>\n",
       "      <th>4</th>\n",
       "      <td>1994-07-05 09:21:52.147709</td>\n",
       "      <td>0.467056</td>\n",
       "    </tr>\n",
       "  </tbody>\n",
       "</table>\n",
       "</div>"
      ],
      "text/plain": [
       "                   this_date  some_numbers\n",
       "0 1986-05-05 04:44:35.877908      0.839019\n",
       "1 1974-01-03 09:38:12.990136      0.023113\n",
       "2 1974-06-18 06:07:03.338543     -1.022649\n",
       "3 1993-04-07 01:46:57.748680      0.223739\n",
       "4 1994-07-05 09:21:52.147709      0.467056"
      ]
     },
     "execution_count": 9,
     "metadata": {},
     "output_type": "execute_result"
    }
   ],
   "source": [
    "# generate fake dates\n",
    "n_samples = 5\n",
    "X = pd.DataFrame(data=randdate(n_samples), columns=['this_date'])\n",
    "X['some_numbers'] = np.random.randn(n_samples)\n",
    "X"
   ]
  },
  {
   "cell_type": "code",
   "execution_count": 10,
   "metadata": {},
   "outputs": [
    {
     "data": {
      "text/plain": [
       "array([[False, 0.8691469551508987, 0.4945539104606511,\n",
       "        0.8390191687963799],\n",
       "       [False, 0.6361017338563584, 0.7716051996875959,\n",
       "        0.02311254426791141],\n",
       "       [False, -0.6301175679634105, -0.7764997427841666,\n",
       "        -1.022649301384859],\n",
       "       [False, 0.9960276397912641, 0.08904459990276777,\n",
       "        0.2237393005168318],\n",
       "       [False, 0.887780995877341, 0.46026612232385355,\n",
       "        0.46705556763075823]], dtype=object)"
      ]
     },
     "execution_count": 10,
     "metadata": {},
     "output_type": "execute_result"
    }
   ],
   "source": [
    "# make pipeline\n",
    "pipe = Pipeline(steps=[\n",
    "    # process column by column\n",
    "    ('col_by_col', FeatureUnion(transformer_list=[\n",
    "        ('dates', Pipeline(steps=[\n",
    "            ('sel1', ColumnSelector(cols=('this_date'))),\n",
    "            ('pre1', MonthCircle())\n",
    "        ])),\n",
    "        ('numbers', ColumnSelector(cols=('some_numbers')))\n",
    "    ]))\n",
    "    # do some other stuff ..\n",
    "])\n",
    "\n",
    "Z = pipe.fit_transform(X)\n",
    "Z"
   ]
  },
  {
   "cell_type": "code",
   "execution_count": 11,
   "metadata": {},
   "outputs": [
    {
     "data": {
      "text/plain": [
       "['0_month_na', '0_month_sin', '0_month_cos', 'some_numbers']"
      ]
     },
     "execution_count": 11,
     "metadata": {},
     "output_type": "execute_result"
    }
   ],
   "source": [
    "colnam = list(pipe.steps[0][1].transformer_list[0][1].steps[1][1].feature_names_)\n",
    "colnam += ['some_numbers']\n",
    "colnam"
   ]
  },
  {
   "cell_type": "code",
   "execution_count": 12,
   "metadata": {},
   "outputs": [
    {
     "data": {
      "text/html": [
       "<div>\n",
       "<style scoped>\n",
       "    .dataframe tbody tr th:only-of-type {\n",
       "        vertical-align: middle;\n",
       "    }\n",
       "\n",
       "    .dataframe tbody tr th {\n",
       "        vertical-align: top;\n",
       "    }\n",
       "\n",
       "    .dataframe thead th {\n",
       "        text-align: right;\n",
       "    }\n",
       "</style>\n",
       "<table border=\"1\" class=\"dataframe\">\n",
       "  <thead>\n",
       "    <tr style=\"text-align: right;\">\n",
       "      <th></th>\n",
       "      <th>0_month_na</th>\n",
       "      <th>0_month_sin</th>\n",
       "      <th>0_month_cos</th>\n",
       "      <th>some_numbers</th>\n",
       "    </tr>\n",
       "  </thead>\n",
       "  <tbody>\n",
       "    <tr>\n",
       "      <th>0</th>\n",
       "      <td>False</td>\n",
       "      <td>0.869147</td>\n",
       "      <td>0.494554</td>\n",
       "      <td>0.839019</td>\n",
       "    </tr>\n",
       "    <tr>\n",
       "      <th>1</th>\n",
       "      <td>False</td>\n",
       "      <td>0.636102</td>\n",
       "      <td>0.771605</td>\n",
       "      <td>0.0231125</td>\n",
       "    </tr>\n",
       "    <tr>\n",
       "      <th>2</th>\n",
       "      <td>False</td>\n",
       "      <td>-0.630118</td>\n",
       "      <td>-0.7765</td>\n",
       "      <td>-1.02265</td>\n",
       "    </tr>\n",
       "    <tr>\n",
       "      <th>3</th>\n",
       "      <td>False</td>\n",
       "      <td>0.996028</td>\n",
       "      <td>0.0890446</td>\n",
       "      <td>0.223739</td>\n",
       "    </tr>\n",
       "    <tr>\n",
       "      <th>4</th>\n",
       "      <td>False</td>\n",
       "      <td>0.887781</td>\n",
       "      <td>0.460266</td>\n",
       "      <td>0.467056</td>\n",
       "    </tr>\n",
       "  </tbody>\n",
       "</table>\n",
       "</div>"
      ],
      "text/plain": [
       "  0_month_na 0_month_sin 0_month_cos some_numbers\n",
       "0      False    0.869147    0.494554     0.839019\n",
       "1      False    0.636102    0.771605    0.0231125\n",
       "2      False   -0.630118     -0.7765     -1.02265\n",
       "3      False    0.996028   0.0890446     0.223739\n",
       "4      False    0.887781    0.460266     0.467056"
      ]
     },
     "execution_count": 12,
     "metadata": {},
     "output_type": "execute_result"
    }
   ],
   "source": [
    "pd.DataFrame(Z, columns=colnam)"
   ]
  },
  {
   "cell_type": "code",
   "execution_count": null,
   "metadata": {},
   "outputs": [],
   "source": []
  }
 ],
 "metadata": {
  "kernelspec": {
   "display_name": "Python 3",
   "language": "python",
   "name": "python3"
  },
  "language_info": {
   "codemirror_mode": {
    "name": "ipython",
    "version": 3
   },
   "file_extension": ".py",
   "mimetype": "text/x-python",
   "name": "python",
   "nbconvert_exporter": "python",
   "pygments_lexer": "ipython3",
   "version": "3.6.2"
  }
 },
 "nbformat": 4,
 "nbformat_minor": 2
}
